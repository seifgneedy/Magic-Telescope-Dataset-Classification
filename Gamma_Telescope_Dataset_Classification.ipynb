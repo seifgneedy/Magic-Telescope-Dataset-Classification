{
  "cells": [
    {
      "cell_type": "markdown",
      "source": [
        ""
      ],
      "metadata": {
        "id": "eWuP0XK46PNz"
      }
    },
    {
      "cell_type": "code",
      "execution_count": null,
      "metadata": {
        "id": "sA4KlcsXjFri"
      },
      "outputs": [],
      "source": [
        "import sklearn as sk\n",
        "import pandas as pd\n",
        "import numpy as np\n",
        "from sklearn import metrics\n",
        "import imblearn as imb\n",
        "import matplotlib.pyplot as plt"
      ]
    },
    {
      "cell_type": "markdown",
      "source": [
        "# Import data set\n",
        "## Splits the features column from the class column \n",
        "## First ten rows are the features while the last row is the classification"
      ],
      "metadata": {
        "id": "0nUx2s1Dtr2T"
      }
    },
    {
      "cell_type": "code",
      "execution_count": null,
      "metadata": {
        "colab": {
          "base_uri": "https://localhost:8080/",
          "height": 52
        },
        "id": "td3kuznLkpMS",
        "outputId": "7ef2496b-39a9-430e-c32e-96871b00e125"
      },
      "outputs": [
        {
          "output_type": "display_data",
          "data": {
            "text/plain": [
              "(19020, 10)"
            ]
          },
          "metadata": {}
        },
        {
          "output_type": "display_data",
          "data": {
            "text/plain": [
              "(19020,)"
            ]
          },
          "metadata": {}
        }
      ],
      "source": [
        "\n",
        "url = 'https://archive.ics.uci.edu/ml/machine-learning-databases/magic/magic04.data'\n",
        "header = ['fLength','fWidth','fSize','fConc','fConc1','fAsym','fM3Long','fM3Trans','fAlpha','fDist','class']\n",
        "df = pd.read_csv(url,names = header)\n",
        "\n",
        "x = df.iloc[:,0:10]\n",
        "y = df.iloc[:,-1]\n",
        "display(x.shape)\n",
        "display(y.shape)"
      ]
    },
    {
      "cell_type": "markdown",
      "source": [
        "# Spliting the data to 70% train and 30% test"
      ],
      "metadata": {
        "id": "qiLDbmCdt_mh"
      }
    },
    {
      "cell_type": "code",
      "execution_count": null,
      "metadata": {
        "colab": {
          "base_uri": "https://localhost:8080/",
          "height": 86
        },
        "id": "-Sum835yonpr",
        "outputId": "d2710e5a-4dea-444f-b84e-1263998ff76d"
      },
      "outputs": [
        {
          "output_type": "display_data",
          "data": {
            "text/plain": [
              "(13314, 10)"
            ]
          },
          "metadata": {}
        },
        {
          "output_type": "display_data",
          "data": {
            "text/plain": [
              "(5706, 10)"
            ]
          },
          "metadata": {}
        },
        {
          "output_type": "display_data",
          "data": {
            "text/plain": [
              "(13314,)"
            ]
          },
          "metadata": {}
        },
        {
          "output_type": "display_data",
          "data": {
            "text/plain": [
              "(5706,)"
            ]
          },
          "metadata": {}
        }
      ],
      "source": [
        "\n",
        "from sklearn.model_selection import train_test_split\n",
        "x_train, x_test, y_train, y_test = train_test_split(x, y, test_size=0.3, random_state=70)\n",
        "display(x_train.shape)\n",
        "display(x_test.shape)\n",
        "display(y_train.shape)\n",
        "display(y_test.shape)"
      ]
    },
    {
      "cell_type": "markdown",
      "source": [
        "# Balancing the training data set using imblearn's undersampling.\n",
        "It's important to note that this is done after splitting as it makes the test data representative of real world data, this also usually results in less throw-away data."
      ],
      "metadata": {
        "id": "fR4lnCZvuEcw"
      }
    },
    {
      "cell_type": "code",
      "execution_count": null,
      "metadata": {
        "colab": {
          "base_uri": "https://localhost:8080/",
          "height": 52
        },
        "id": "NlXmohKvsRtw",
        "outputId": "c2e9bd2b-ad18-411d-f196-c04bb1ee4e67"
      },
      "outputs": [
        {
          "output_type": "display_data",
          "data": {
            "text/plain": [
              "(9448, 10)"
            ]
          },
          "metadata": {}
        },
        {
          "output_type": "display_data",
          "data": {
            "text/plain": [
              "(9448,)"
            ]
          },
          "metadata": {}
        }
      ],
      "source": [
        "\n",
        "from imblearn.under_sampling import RandomUnderSampler\n",
        "undersample = RandomUnderSampler(sampling_strategy='majority',random_state=70)\n",
        "x_bal, y_bal = undersample.fit_resample(x_train, y_train)\n",
        "display(x_bal.shape)\n",
        "display(y_bal.shape)\n"
      ]
    },
    {
      "cell_type": "markdown",
      "source": [
        "# Decision Tree \n",
        "\n",
        "\n"
      ],
      "metadata": {
        "id": "hBIrvcrCuKM0"
      }
    },
    {
      "cell_type": "code",
      "execution_count": null,
      "metadata": {
        "colab": {
          "base_uri": "https://localhost:8080/",
          "height": 505
        },
        "id": "lVcIgJwkuysM",
        "outputId": "4047d221-a7ff-42d0-ef2c-0701698d2b17"
      },
      "outputs": [
        {
          "output_type": "stream",
          "name": "stdout",
          "text": [
            "Decision Tree:\n",
            "Accuracy =  0.7912723449001051\n",
            "classification report:\n",
            "               precision    recall  f1-score   support\n",
            "\n",
            "           g       0.87      0.80      0.83      3742\n",
            "           h       0.67      0.78      0.72      1964\n",
            "\n",
            "    accuracy                           0.79      5706\n",
            "   macro avg       0.77      0.79      0.78      5706\n",
            "weighted avg       0.80      0.79      0.79      5706\n",
            "\n",
            "Confusion Matrix:\n"
          ]
        },
        {
          "output_type": "display_data",
          "data": {
            "image/png": "[encoded data removed]",
            "text/plain": [
              "<Figure size 432x288 with 2 Axes>"
            ]
          },
          "metadata": {
            "needs_background": "light"
          }
        }
      ],
      "source": [
        "\n",
        "from sklearn.tree import DecisionTreeClassifier\n",
        "\n",
        "decisionTreeClassifier = DecisionTreeClassifier(random_state=70)\n",
        "decisionTreeClassifier.fit(x_bal,y_bal)\n",
        "\n",
        "y_predicted = decisionTreeClassifier.predict(x_test)\n",
        "print('Decision Tree:')\n",
        "print(\"Accuracy = \" ,metrics.accuracy_score(y_test,y_predicted))\n",
        "print(\"classification report:\\n\", metrics.classification_report(y_test, y_predicted))\n",
        "cm = metrics.confusion_matrix(y_test, y_predicted, labels = decisionTreeClassifier.classes_)\n",
        "disp = metrics.ConfusionMatrixDisplay(confusion_matrix = cm, display_labels = decisionTreeClassifier.classes_)\n",
        "print(\"Confusion Matrix:\")\n",
        "disp.plot()\n",
        "plt.show()"
      ]
    },
    {
      "cell_type": "markdown",
      "source": [
        "# Ada boost cross validation and model training\n",
        "- Note that the Grid Search was executed multiple time with diffrent ranges of \"n_estimators\" before the range was narrowed down to the range [ 135,155]. \n",
        "- Adaboost uses Decision trees as default weak learners with max_depth=1.   \n",
        "-  n_estimators indicates the number of decision trees to be used.  \n",
        "-  Obtained the best n_estimators and use it in the prediction."
      ],
      "metadata": {
        "id": "IcS3NOLFuNtD"
      }
    },
    {
      "cell_type": "code",
      "source": [
        "from sklearn.experimental import enable_halving_search_cv # noqa\n",
        "from sklearn.model_selection import HalvingGridSearchCV\n",
        "\n",
        "from sklearn.ensemble import AdaBoostClassifier\n",
        "parameters = {'n_estimators' : np.linspace(start = 135, stop = 155, num = 20, dtype = int)}\n",
        "abc = HalvingGridSearchCV(AdaBoostClassifier(random_state=70), parameters, random_state=70)\n",
        "abc.fit(x_bal,y_bal)\n",
        "print(abc.best_params_)"
      ],
      "metadata": {
        "colab": {
          "base_uri": "https://localhost:8080/"
        },
        "id": "wACdw7bGATBd",
        "outputId": "220a13e6-e1e8-4400-d47c-87e12e037380"
      },
      "execution_count": null,
      "outputs": [
        {
          "output_type": "stream",
          "name": "stdout",
          "text": [
            "{'n_estimators': 143}\n"
          ]
        }
      ]
    },
    {
      "cell_type": "markdown",
      "source": [
        "# Ada boost prediction using test data\n",
        "- Accuracy of ada boost is less than random forest as each weak learner is trained on data, taking into account the previous weak learners’ success or failure and update weights accordingly.\n",
        "- So, it increases overfitting the training data."
      ],
      "metadata": {
        "id": "b2J_DRzKuQHT"
      }
    },
    {
      "cell_type": "code",
      "execution_count": null,
      "metadata": {
        "id": "9AFyWAhI0X0m",
        "colab": {
          "base_uri": "https://localhost:8080/",
          "height": 540
        },
        "outputId": "865da250-d18f-4f07-9a19-515f09752162"
      },
      "outputs": [
        {
          "output_type": "stream",
          "name": "stdout",
          "text": [
            "Ada Boost\n",
            "Best n_estimators\n",
            "{'n_estimators': 143}\n",
            "Accuracy =  0.8170347003154574\n",
            "classification report:\n",
            "               precision    recall  f1-score   support\n",
            "\n",
            "           g       0.89      0.82      0.86      3742\n",
            "           h       0.71      0.80      0.75      1964\n",
            "\n",
            "    accuracy                           0.82      5706\n",
            "   macro avg       0.80      0.81      0.80      5706\n",
            "weighted avg       0.83      0.82      0.82      5706\n",
            "\n",
            "Confusion Matrix:\n"
          ]
        },
        {
          "output_type": "display_data",
          "data": {
            "image/png": "[encoded data removed]",
            "text/plain": [
              "<Figure size 432x288 with 2 Axes>"
            ]
          },
          "metadata": {
            "needs_background": "light"
          }
        }
      ],
      "source": [
        "y_predicted = abc.predict(x_test)\n",
        "print('Ada Boost\\nBest n_estimators')\n",
        "print(abc.best_params_)\n",
        "print(\"Accuracy = \" ,metrics.accuracy_score(y_test,y_predicted))\n",
        "print(\"classification report:\\n\", metrics.classification_report(y_test, y_predicted))\n",
        "cm = metrics.confusion_matrix(y_test, y_predicted, labels = abc.classes_)\n",
        "disp = metrics.ConfusionMatrixDisplay(confusion_matrix = cm, display_labels = abc.classes_)\n",
        "print(\"Confusion Matrix:\")\n",
        "disp.plot()\n",
        "plt.show()"
      ]
    },
    {
      "cell_type": "markdown",
      "source": [
        "# K-neareast Nieghbors cross validation and model training"
      ],
      "metadata": {
        "id": "C1aKFELcuVUr"
      }
    },
    {
      "cell_type": "code",
      "source": [
        "from sklearn.model_selection import GridSearchCV\n",
        "from sklearn.neighbors import KNeighborsClassifier\n",
        "parameters = {'n_neighbors' : np.linspace(start= 3, stop = 30, num = 27, dtype = int)}\n",
        "knnc = GridSearchCV(KNeighborsClassifier(), parameters)\n",
        "knnc.fit(x_bal,y_bal)\n",
        "print(knnc.best_params_)"
      ],
      "metadata": {
        "colab": {
          "base_uri": "https://localhost:8080/"
        },
        "id": "ZSwdeAwYAgnF",
        "outputId": "e13a3273-1bc2-4752-8324-a0bba10653c1"
      },
      "execution_count": null,
      "outputs": [
        {
          "output_type": "stream",
          "name": "stdout",
          "text": [
            "{'n_neighbors': 13}\n"
          ]
        }
      ]
    },
    {
      "cell_type": "markdown",
      "source": [
        "# K-neareast Nieghbors prediction using test data\n",
        "- Although KNN is simple model but it produces reasonable accurecy.\n"
      ],
      "metadata": {
        "id": "0dBkEn9l2rxr"
      }
    },
    {
      "cell_type": "code",
      "execution_count": null,
      "metadata": {
        "colab": {
          "base_uri": "https://localhost:8080/",
          "height": 539
        },
        "id": "dxVDSYFY0Xi5",
        "outputId": "bc2b9ae3-f5cb-41ee-bb2d-77a70bfedd67"
      },
      "outputs": [
        {
          "output_type": "stream",
          "name": "stdout",
          "text": [
            "K-neareast Nieghbors\n",
            "Best K\n",
            "{'n_neighbors': 13}\n",
            "Accuracy =  0.7910970907816334\n",
            "classification report:\n",
            "               precision    recall  f1-score   support\n",
            "\n",
            "           g       0.83      0.86      0.84      3742\n",
            "           h       0.71      0.66      0.68      1964\n",
            "\n",
            "    accuracy                           0.79      5706\n",
            "   macro avg       0.77      0.76      0.76      5706\n",
            "weighted avg       0.79      0.79      0.79      5706\n",
            "\n",
            "Confusion Matrix:\n"
          ]
        },
        {
          "output_type": "display_data",
          "data": {
            "image/png": "[encoded data removed]",
            "text/plain": [
              "<Figure size 432x288 with 2 Axes>"
            ]
          },
          "metadata": {
            "needs_background": "light"
          }
        }
      ],
      "source": [
        "\n",
        "y_predicted = knnc.predict(x_test)\n",
        "print('K-neareast Nieghbors\\nBest K')\n",
        "print(knnc.best_params_)\n",
        "print(\"Accuracy = \" ,metrics.accuracy_score(y_test,y_predicted))\n",
        "print(\"classification report:\\n\", metrics.classification_report(y_test, y_predicted))\n",
        "cm = metrics.confusion_matrix(y_test, y_predicted, labels = knnc.classes_)\n",
        "disp = metrics.ConfusionMatrixDisplay(confusion_matrix = cm, display_labels = knnc.classes_)\n",
        "print(\"Confusion Matrix:\")\n",
        "disp.plot()\n",
        "plt.show()"
      ]
    },
    {
      "cell_type": "markdown",
      "source": [
        "# Random Forest cross validation and model training\n",
        "Note that the Grid Search was executed multiple time with diffrent ranges of \"n_estimators\" before the range was narrowed down to what you can see now"
      ],
      "metadata": {
        "id": "iWKedJlvuaXG"
      }
    },
    {
      "cell_type": "code",
      "source": [
        "\n",
        "from sklearn.experimental import enable_halving_search_cv # noqa\n",
        "from sklearn.model_selection import HalvingGridSearchCV\n",
        "\n",
        "from sklearn.ensemble import RandomForestClassifier\n",
        "parameters = {'n_estimators' : np.linspace(start = 365, stop = 385, num = 20, dtype = int)}\n",
        "rfc = HalvingGridSearchCV(RandomForestClassifier(random_state=70), parameters,random_state=70)\n",
        "rfc.fit(x_bal,y_bal)\n",
        "print(rfc.best_params_)"
      ],
      "metadata": {
        "colab": {
          "base_uri": "https://localhost:8080/"
        },
        "id": "2I2T7F_9AxWp",
        "outputId": "5a105a73-1b98-4037-b993-1e241606a066"
      },
      "execution_count": null,
      "outputs": [
        {
          "output_type": "stream",
          "name": "stdout",
          "text": [
            "{'n_estimators': 375}\n"
          ]
        }
      ]
    },
    {
      "cell_type": "markdown",
      "source": [
        "# Random Forest Nieghbors prediction using test data  \n",
        "- We can see that random forests gives the best accuracy as it follows modified bagging technique to reduce the correlation between trees.  \n",
        "- Random forest uses decision trees as weak learners.\n",
        "- At each split it chooses a different set of features and the optimal split is chosen within the subset."
      ],
      "metadata": {
        "id": "0slg8LZNudCW"
      }
    },
    {
      "cell_type": "code",
      "execution_count": null,
      "metadata": {
        "colab": {
          "base_uri": "https://localhost:8080/",
          "height": 539
        },
        "id": "57yrLLRu0XCh",
        "outputId": "3e5eee36-f684-48b1-9069-14eaa6dcf4c3"
      },
      "outputs": [
        {
          "output_type": "stream",
          "name": "stdout",
          "text": [
            "Random Forest\n",
            "Best n_estimators\n",
            "{'n_estimators': 375}\n",
            "Accuracy =  0.8655800911321416\n",
            "classification report:\n",
            "               precision    recall  f1-score   support\n",
            "\n",
            "           g       0.91      0.89      0.90      3742\n",
            "           h       0.79      0.82      0.81      1964\n",
            "\n",
            "    accuracy                           0.87      5706\n",
            "   macro avg       0.85      0.86      0.85      5706\n",
            "weighted avg       0.87      0.87      0.87      5706\n",
            "\n",
            "Confusion Matrix:\n"
          ]
        },
        {
          "output_type": "display_data",
          "data": {
            "image/png": "[encoded data removed]",
            "text/plain": [
              "<Figure size 432x288 with 2 Axes>"
            ]
          },
          "metadata": {
            "needs_background": "light"
          }
        }
      ],
      "source": [
        "\n",
        "y_predicted = rfc.predict(x_test)\n",
        "print('Random Forest\\nBest n_estimators')\n",
        "print(rfc.best_params_)\n",
        "print(\"Accuracy = \" ,metrics.accuracy_score(y_test,y_predicted))\n",
        "print(\"classification report:\\n\", metrics.classification_report(y_test, y_predicted))\n",
        "cm = metrics.confusion_matrix(y_test, y_predicted, labels = rfc.classes_)\n",
        "disp = metrics.ConfusionMatrixDisplay(confusion_matrix = cm, display_labels = rfc.classes_)\n",
        "print(\"Confusion Matrix:\")\n",
        "disp.plot()\n",
        "plt.show()"
      ]
    },
    {
      "cell_type": "markdown",
      "source": [
        "# Naive Bayes"
      ],
      "metadata": {
        "id": "Gcw5Nek8uhFo"
      }
    },
    {
      "cell_type": "markdown",
      "source": [
        "- This bad accuracy implies that features are dependent and aren't normally distributed as Gaussian Naive Bayes assumes independence between features and data is normally distributed.   \n"
      ],
      "metadata": {
        "id": "VKjHlH2r2HH6"
      }
    },
    {
      "cell_type": "code",
      "execution_count": null,
      "metadata": {
        "colab": {
          "base_uri": "https://localhost:8080/",
          "height": 539
        },
        "id": "2y9Ver0K0N_8",
        "outputId": "855790e4-ee98-4b52-c0f7-0a8d2e1f3d75"
      },
      "outputs": [
        {
          "output_type": "stream",
          "name": "stdout",
          "text": [
            "Naive Bayes\n",
            "Accuracy =  0.7285313704872064\n",
            "classification report:\n",
            "               precision    recall  f1-score   support\n",
            "\n",
            "           g       0.74      0.89      0.81      3742\n",
            "           h       0.67      0.41      0.51      1964\n",
            "\n",
            "    accuracy                           0.73      5706\n",
            "   macro avg       0.71      0.65      0.66      5706\n",
            "weighted avg       0.72      0.73      0.71      5706\n",
            "\n",
            "Confusion Matrix:\n",
            " [[3343  399]\n",
            " [1150  814]]\n"
          ]
        },
        {
          "output_type": "display_data",
          "data": {
            "image/png": "[encoded data removed]",
            "text/plain": [
              "<Figure size 432x288 with 2 Axes>"
            ]
          },
          "metadata": {
            "needs_background": "light"
          }
        }
      ],
      "source": [
        "from sklearn.naive_bayes import GaussianNB\n",
        "gaussianNB = GaussianNB()\n",
        "gaussianNB.fit(x_bal,y_bal)\n",
        "y_predicted = gaussianNB.predict(x_test)\n",
        "print('Naive Bayes')\n",
        "print(\"Accuracy = \" ,metrics.accuracy_score(y_test,y_predicted))\n",
        "print(\"classification report:\\n\", metrics.classification_report(y_test, y_predicted))\n",
        "cm = metrics.confusion_matrix(y_test, y_predicted, labels = gaussianNB.classes_)\n",
        "disp = metrics.ConfusionMatrixDisplay(confusion_matrix = cm, display_labels = gaussianNB.classes_)\n",
        "print(\"Confusion Matrix:\\n\",cm)\n",
        "disp.plot()\n",
        "plt.show()"
      ]
    }
  ],
  "metadata": {
    "colab": {
      "collapsed_sections": [],
      "name": "Gamma-Telescope-Dataset-Classification.ipynb",
      "provenance": []
    },
    "kernelspec": {
      "display_name": "Python 3",
      "name": "python3"
    },
    "language_info": {
      "name": "python"
    }
  },
  "nbformat": 4,
  "nbformat_minor": 0
}